{
  "nbformat": 4,
  "nbformat_minor": 0,
  "metadata": {
    "colab": {
      "provenance": []
    },
    "kernelspec": {
      "name": "python3",
      "display_name": "Python 3"
    },
    "language_info": {
      "name": "python"
    }
  },
  "cells": [
    {
      "cell_type": "markdown",
      "source": [
        "#Operações de matrizes\n",
        "\n"
      ],
      "metadata": {
        "id": "UAb9qVZw7Njs"
      }
    },
    {
      "cell_type": "code",
      "source": [
        "import numpy as np"
      ],
      "metadata": {
        "id": "jyclRTA4MtiJ"
      },
      "execution_count": 1,
      "outputs": []
    },
    {
      "cell_type": "markdown",
      "source": [
        "#Construção de Matrizes\n",
        "\n"
      ],
      "metadata": {
        "id": "xTjzi2dWLk1A"
      }
    },
    {
      "cell_type": "code",
      "source": [
        "#construção de matrizes\n",
        "\n",
        "matriz = np.arange(1,10)\n",
        "\n",
        "print(matriz)"
      ],
      "metadata": {
        "id": "Zv1DMWS28hwP",
        "colab": {
          "base_uri": "https://localhost:8080/"
        },
        "outputId": "b5f5efea-7f7b-4311-bfe3-38da63006da9"
      },
      "execution_count": 2,
      "outputs": [
        {
          "output_type": "stream",
          "name": "stdout",
          "text": [
            "[1 2 3 4 5 6 7 8 9]\n"
          ]
        }
      ]
    },
    {
      "cell_type": "code",
      "source": [
        "print(type(matriz))"
      ],
      "metadata": {
        "colab": {
          "base_uri": "https://localhost:8080/"
        },
        "id": "9ohTSdrCLJj3",
        "outputId": "730c0a02-79da-4d8e-8ae1-a47f55419717"
      },
      "execution_count": 3,
      "outputs": [
        {
          "output_type": "stream",
          "name": "stdout",
          "text": [
            "<class 'numpy.ndarray'>\n"
          ]
        }
      ]
    },
    {
      "cell_type": "code",
      "source": [
        "#construção utilizando vetores\n",
        "\n",
        "#utilizando listas\n",
        "\n",
        "a = [1,3,5,7]\n",
        "b = [9,11,13,15]\n",
        "\n",
        "matriz = [a,b]\n",
        "\n",
        "print(matriz) #2x4"
      ],
      "metadata": {
        "id": "8jS9pT5r_JQm",
        "colab": {
          "base_uri": "https://localhost:8080/"
        },
        "outputId": "72d69f6d-194e-456b-bf90-8492426349f5"
      },
      "execution_count": 4,
      "outputs": [
        {
          "output_type": "stream",
          "name": "stdout",
          "text": [
            "[[1, 3, 5, 7], [9, 11, 13, 15]]\n"
          ]
        }
      ]
    },
    {
      "cell_type": "code",
      "source": [
        "a = [1,2,3,4]\n",
        "\n",
        "matriz = [a]\n",
        "print(matriz)\n",
        "print(type(matriz))"
      ],
      "metadata": {
        "colab": {
          "base_uri": "https://localhost:8080/"
        },
        "id": "MN2pkkuWI9Ul",
        "outputId": "02b078d2-c124-41f2-b211-eef55c7fb311"
      },
      "execution_count": 5,
      "outputs": [
        {
          "output_type": "stream",
          "name": "stdout",
          "text": [
            "[[1, 2, 3, 4]]\n",
            "<class 'list'>\n"
          ]
        }
      ]
    },
    {
      "cell_type": "code",
      "source": [
        "#utilizando tuplas(imutáveis)\n",
        "\n",
        "a = (1,3,5,7)\n",
        "b = (9,11,13,15)\n",
        "\n",
        "matriz = (a,b)\n",
        "\n",
        "print(matriz)"
      ],
      "metadata": {
        "id": "tl61vfPaAwST",
        "colab": {
          "base_uri": "https://localhost:8080/"
        },
        "outputId": "55beb08c-faee-4f81-93ee-a1b4b89d1aed"
      },
      "execution_count": 6,
      "outputs": [
        {
          "output_type": "stream",
          "name": "stdout",
          "text": [
            "((1, 3, 5, 7), (9, 11, 13, 15))\n"
          ]
        }
      ]
    },
    {
      "cell_type": "code",
      "source": [
        "a = (1,2,3,4,'a','b','c',True,False,1.4,1.9)\n",
        "\n",
        "matriz = (a)\n",
        "print(matriz)\n",
        "print(type(matriz))"
      ],
      "metadata": {
        "colab": {
          "base_uri": "https://localhost:8080/"
        },
        "id": "uCiE9f1TKQDp",
        "outputId": "0ce7a4d2-80d0-4f46-9ba8-86868eccc3e5"
      },
      "execution_count": 7,
      "outputs": [
        {
          "output_type": "stream",
          "name": "stdout",
          "text": [
            "(1, 2, 3, 4, 'a', 'b', 'c', True, False, 1.4, 1.9)\n",
            "<class 'tuple'>\n"
          ]
        }
      ]
    },
    {
      "cell_type": "code",
      "source": [
        "#construção por linhas e colunas\n",
        "\n",
        "matriz = np.arange(5,11).reshape((3, 2))\n",
        "\n",
        "print(matriz)"
      ],
      "metadata": {
        "id": "v9EsySDHBIb5",
        "colab": {
          "base_uri": "https://localhost:8080/"
        },
        "outputId": "9007f916-c57f-41d4-e2ec-4b8b04881064"
      },
      "execution_count": 8,
      "outputs": [
        {
          "output_type": "stream",
          "name": "stdout",
          "text": [
            "[[ 5  6]\n",
            " [ 7  8]\n",
            " [ 9 10]]\n"
          ]
        }
      ]
    },
    {
      "cell_type": "markdown",
      "source": [
        "#Manipulação de elementos"
      ],
      "metadata": {
        "id": "mkSeuLLHLymW"
      }
    },
    {
      "cell_type": "code",
      "source": [
        "#manipulação de elementos (substituição de elementos)\n",
        "\n",
        "matriz = np.arange(6)\n",
        "\n",
        "print(matriz)"
      ],
      "metadata": {
        "id": "TIb7sKDCB8Lk",
        "colab": {
          "base_uri": "https://localhost:8080/"
        },
        "outputId": "555d24d5-9c7d-4537-e0cb-ab221c86e4ac"
      },
      "execution_count": 9,
      "outputs": [
        {
          "output_type": "stream",
          "name": "stdout",
          "text": [
            "[0 1 2 3 4 5]\n"
          ]
        }
      ]
    },
    {
      "cell_type": "code",
      "source": [
        "matriz[2] = 10\n",
        "print(matriz)"
      ],
      "metadata": {
        "id": "VOkqyHqnEnB4",
        "colab": {
          "base_uri": "https://localhost:8080/"
        },
        "outputId": "d4146164-1f45-443a-bf6a-c706e7d2ea12"
      },
      "execution_count": 10,
      "outputs": [
        {
          "output_type": "stream",
          "name": "stdout",
          "text": [
            "[ 0  1 10  3  4  5]\n"
          ]
        }
      ]
    },
    {
      "cell_type": "code",
      "source": [
        "a = [1,2,3,4]\n",
        "a[2] = 10\n",
        "matriz = [a]\n",
        "print(matriz)"
      ],
      "metadata": {
        "colab": {
          "base_uri": "https://localhost:8080/"
        },
        "id": "cV6-QCJSJulC",
        "outputId": "167b6470-1de0-4771-ef7a-6ecd83675c46"
      },
      "execution_count": 11,
      "outputs": [
        {
          "output_type": "stream",
          "name": "stdout",
          "text": [
            "[[1, 2, 10, 4]]\n"
          ]
        }
      ]
    },
    {
      "cell_type": "code",
      "source": [
        "# tupla\n",
        "a = (1,2,3,4)\n",
        "a[2] = 10\n",
        "matriz = (a)\n",
        "print(matriz)"
      ],
      "metadata": {
        "id": "hFTRNdt0JgXZ",
        "colab": {
          "base_uri": "https://localhost:8080/",
          "height": 210
        },
        "outputId": "d2b5961b-f12c-4bd2-d1b3-a71bee53d66c"
      },
      "execution_count": 12,
      "outputs": [
        {
          "output_type": "error",
          "ename": "TypeError",
          "evalue": "'tuple' object does not support item assignment",
          "traceback": [
            "\u001b[0;31m---------------------------------------------------------------------------\u001b[0m",
            "\u001b[0;31mTypeError\u001b[0m                                 Traceback (most recent call last)",
            "\u001b[0;32m<ipython-input-12-079966fc00a3>\u001b[0m in \u001b[0;36m<cell line: 3>\u001b[0;34m()\u001b[0m\n\u001b[1;32m      1\u001b[0m \u001b[0;31m# tupla\u001b[0m\u001b[0;34m\u001b[0m\u001b[0;34m\u001b[0m\u001b[0m\n\u001b[1;32m      2\u001b[0m \u001b[0ma\u001b[0m \u001b[0;34m=\u001b[0m \u001b[0;34m(\u001b[0m\u001b[0;36m1\u001b[0m\u001b[0;34m,\u001b[0m\u001b[0;36m2\u001b[0m\u001b[0;34m,\u001b[0m\u001b[0;36m3\u001b[0m\u001b[0;34m,\u001b[0m\u001b[0;36m4\u001b[0m\u001b[0;34m)\u001b[0m\u001b[0;34m\u001b[0m\u001b[0;34m\u001b[0m\u001b[0m\n\u001b[0;32m----> 3\u001b[0;31m \u001b[0ma\u001b[0m\u001b[0;34m[\u001b[0m\u001b[0;36m2\u001b[0m\u001b[0;34m]\u001b[0m \u001b[0;34m=\u001b[0m \u001b[0;36m10\u001b[0m\u001b[0;34m\u001b[0m\u001b[0;34m\u001b[0m\u001b[0m\n\u001b[0m\u001b[1;32m      4\u001b[0m \u001b[0mmatriz\u001b[0m \u001b[0;34m=\u001b[0m \u001b[0;34m(\u001b[0m\u001b[0ma\u001b[0m\u001b[0;34m)\u001b[0m\u001b[0;34m\u001b[0m\u001b[0;34m\u001b[0m\u001b[0m\n\u001b[1;32m      5\u001b[0m \u001b[0mprint\u001b[0m\u001b[0;34m(\u001b[0m\u001b[0mmatriz\u001b[0m\u001b[0;34m)\u001b[0m\u001b[0;34m\u001b[0m\u001b[0;34m\u001b[0m\u001b[0m\n",
            "\u001b[0;31mTypeError\u001b[0m: 'tuple' object does not support item assignment"
          ]
        }
      ]
    },
    {
      "cell_type": "code",
      "source": [
        "matriz = np.arange(6).reshape((3, 2))\n",
        "\n",
        "print(matriz)"
      ],
      "metadata": {
        "id": "IoRE3QEPFAkr",
        "colab": {
          "base_uri": "https://localhost:8080/"
        },
        "outputId": "fd3b21cc-e602-4295-940a-11760345deef"
      },
      "execution_count": 13,
      "outputs": [
        {
          "output_type": "stream",
          "name": "stdout",
          "text": [
            "[[0 1]\n",
            " [2 3]\n",
            " [4 5]]\n"
          ]
        }
      ]
    },
    {
      "cell_type": "code",
      "source": [
        "matriz[1][1] = 10\n",
        "print(matriz)"
      ],
      "metadata": {
        "id": "UYzHhN4rE6Lz",
        "colab": {
          "base_uri": "https://localhost:8080/"
        },
        "outputId": "3ce5f163-e6d2-4398-8330-2b765e6a5b68"
      },
      "execution_count": 14,
      "outputs": [
        {
          "output_type": "stream",
          "name": "stdout",
          "text": [
            "[[ 0  1]\n",
            " [ 2 10]\n",
            " [ 4  5]]\n"
          ]
        }
      ]
    },
    {
      "cell_type": "markdown",
      "source": [
        "#Operações entre matrizes\n"
      ],
      "metadata": {
        "id": "4zKf4VxlK7YJ"
      }
    },
    {
      "cell_type": "code",
      "source": [
        "matriz_1 = np.arange(9).reshape((3,3))\n",
        "\n",
        "print(matriz_1)"
      ],
      "metadata": {
        "id": "guePtBmoMosm",
        "colab": {
          "base_uri": "https://localhost:8080/"
        },
        "outputId": "71d5e6c2-ffe4-4b1a-931b-6a5758e1c40e"
      },
      "execution_count": 18,
      "outputs": [
        {
          "output_type": "stream",
          "name": "stdout",
          "text": [
            "[[0 1 2]\n",
            " [3 4 5]\n",
            " [6 7 8]]\n"
          ]
        }
      ]
    },
    {
      "cell_type": "code",
      "source": [
        "matriz_2 = np.arange(9).reshape((3,3))\n",
        "\n",
        "print(matriz_2)\n",
        "print(type(matriz_2))"
      ],
      "metadata": {
        "id": "g3xBVWn8NG00",
        "colab": {
          "base_uri": "https://localhost:8080/"
        },
        "outputId": "b3ff5b87-fd57-4101-ff40-ebae1ac2c463"
      },
      "execution_count": 16,
      "outputs": [
        {
          "output_type": "stream",
          "name": "stdout",
          "text": [
            "[[0 1 2]\n",
            " [3 4 5]\n",
            " [6 7 8]]\n",
            "<class 'numpy.ndarray'>\n"
          ]
        }
      ]
    },
    {
      "cell_type": "code",
      "source": [
        "#soma\n",
        "\n",
        "matriz_1 = np.array(matriz_1)\n",
        "matriz_2 = np.array(matriz_2)\n",
        "\n",
        "matriz_soma = matriz_1 + matriz_2\n",
        "\n",
        "print(matriz_soma)"
      ],
      "metadata": {
        "id": "-j20S1eEKvQZ",
        "colab": {
          "base_uri": "https://localhost:8080/"
        },
        "outputId": "65604437-cff8-4da7-a6cf-dd9119fab3ba"
      },
      "execution_count": 19,
      "outputs": [
        {
          "output_type": "stream",
          "name": "stdout",
          "text": [
            "[[ 0  2  4]\n",
            " [ 6  8 10]\n",
            " [12 14 16]]\n"
          ]
        }
      ]
    },
    {
      "cell_type": "code",
      "source": [
        "#subtração\n",
        "\n",
        "matriz_1 = np.array(matriz_1)\n",
        "matriz_2 = np.array(matriz_2)\n",
        "\n",
        "matriz_sub = matriz_1 - matriz_2\n",
        "print(matriz_sub)"
      ],
      "metadata": {
        "id": "BTRwvkBxymw6",
        "colab": {
          "base_uri": "https://localhost:8080/"
        },
        "outputId": "f8b8de57-79f5-4474-e0d3-4d039174afa8"
      },
      "execution_count": 20,
      "outputs": [
        {
          "output_type": "stream",
          "name": "stdout",
          "text": [
            "[[0 0 0]\n",
            " [0 0 0]\n",
            " [0 0 0]]\n"
          ]
        }
      ]
    },
    {
      "cell_type": "code",
      "source": [
        "#multiplicação por Constante(k)\n",
        "\n",
        "matriz_k = matriz_1 * 5\n",
        "print(matriz_k)"
      ],
      "metadata": {
        "id": "pRRl9ZEmMlnV",
        "colab": {
          "base_uri": "https://localhost:8080/"
        },
        "outputId": "438bc1ed-bc3a-4d07-dd9d-f54149d0135c"
      },
      "execution_count": 21,
      "outputs": [
        {
          "output_type": "stream",
          "name": "stdout",
          "text": [
            "[[ 0  5 10]\n",
            " [15 20 25]\n",
            " [30 35 40]]\n"
          ]
        }
      ]
    },
    {
      "cell_type": "markdown",
      "source": [
        "#Multiplicação de Matriz"
      ],
      "metadata": {
        "id": "Sh8_-UalXwtg"
      }
    },
    {
      "cell_type": "code",
      "source": [
        "matriz_multi_1 = [1,3,2],[2,1,1] #matriz 2x3\n",
        "print(matriz_multi_1)"
      ],
      "metadata": {
        "colab": {
          "base_uri": "https://localhost:8080/"
        },
        "id": "M8dYe83gXGeu",
        "outputId": "de8be33d-e73a-4859-d6e3-ee5df31868ba"
      },
      "execution_count": 22,
      "outputs": [
        {
          "output_type": "stream",
          "name": "stdout",
          "text": [
            "([1, 3, 2], [2, 1, 1])\n"
          ]
        }
      ]
    },
    {
      "cell_type": "code",
      "source": [
        "matriz_multi_2 = [2,1,3],[1,0,2],[1,1,0] #matriz 3x3\n",
        "print(matriz_multi_2)"
      ],
      "metadata": {
        "colab": {
          "base_uri": "https://localhost:8080/"
        },
        "id": "iKKcvw1GXaMx",
        "outputId": "1c5190a8-8a00-4944-8318-70c6f34d3d4c"
      },
      "execution_count": 23,
      "outputs": [
        {
          "output_type": "stream",
          "name": "stdout",
          "text": [
            "([2, 1, 3], [1, 0, 2], [1, 1, 0])\n"
          ]
        }
      ]
    },
    {
      "cell_type": "code",
      "source": [
        "matriz_multi_1 = np.array(matriz_multi_1)\n",
        "matriz_multi_2 = np.array(matriz_multi_2)\n",
        "\n",
        "matriz_multi = matriz_multi_1 @ matriz_multi_2\n",
        "\n",
        "print(matriz_multi) #matriz 2x3"
      ],
      "metadata": {
        "id": "iHAKNHczzhzj",
        "colab": {
          "base_uri": "https://localhost:8080/"
        },
        "outputId": "1052b5a3-8477-4f11-a789-615621911aab"
      },
      "execution_count": 24,
      "outputs": [
        {
          "output_type": "stream",
          "name": "stdout",
          "text": [
            "[[7 3 9]\n",
            " [6 3 8]]\n"
          ]
        }
      ]
    },
    {
      "cell_type": "markdown",
      "source": [
        "#Calculos extras"
      ],
      "metadata": {
        "id": "SANLQma4MIcd"
      }
    },
    {
      "cell_type": "code",
      "source": [
        "#determinante\n",
        "\n",
        "matriz = np.arange(1,10).reshape(3, 3)\n",
        "determinante = np.linalg.det(matriz)\n",
        "\n",
        "print(matriz)\n",
        "print('\\n')\n",
        "print(determinante)"
      ],
      "metadata": {
        "id": "JM3NIyxEGZJT",
        "colab": {
          "base_uri": "https://localhost:8080/"
        },
        "outputId": "866d889f-85fe-4715-d64f-e6b8564491c8"
      },
      "execution_count": 25,
      "outputs": [
        {
          "output_type": "stream",
          "name": "stdout",
          "text": [
            "[[1 2 3]\n",
            " [4 5 6]\n",
            " [7 8 9]]\n",
            "\n",
            "\n",
            "0.0\n"
          ]
        }
      ]
    },
    {
      "cell_type": "code",
      "source": [
        "#dimensão\n",
        "\n",
        "matriz = np.arange(9).reshape(3, 3)\n",
        "\n",
        "print(matriz)\n",
        "print('\\n')\n",
        "print(matriz.shape)"
      ],
      "metadata": {
        "id": "cnjhaeZgH4mt",
        "colab": {
          "base_uri": "https://localhost:8080/"
        },
        "outputId": "73f77a29-5427-46ef-887e-db0777aac3fd"
      },
      "execution_count": 26,
      "outputs": [
        {
          "output_type": "stream",
          "name": "stdout",
          "text": [
            "[[0 1 2]\n",
            " [3 4 5]\n",
            " [6 7 8]]\n",
            "\n",
            "\n",
            "(3, 3)\n"
          ]
        }
      ]
    },
    {
      "cell_type": "code",
      "source": [
        "#extração de diagonal\n",
        "\n",
        "matriz = np.arange(9).reshape(3, 3)\n",
        "diagonal = np.diagonal(matriz)\n",
        "\n",
        "print(matriz)\n",
        "print('\\n')\n",
        "print(diagonal)"
      ],
      "metadata": {
        "id": "Q_pJ4P5RIB6W",
        "colab": {
          "base_uri": "https://localhost:8080/"
        },
        "outputId": "26628e17-9995-45d7-cbfb-1b63a408b86b"
      },
      "execution_count": 27,
      "outputs": [
        {
          "output_type": "stream",
          "name": "stdout",
          "text": [
            "[[0 1 2]\n",
            " [3 4 5]\n",
            " [6 7 8]]\n",
            "\n",
            "\n",
            "[0 4 8]\n"
          ]
        }
      ]
    },
    {
      "cell_type": "code",
      "source": [
        "#juntar matrizes por linhas (empilhamento vertical)\n",
        "matriz_1 = np.arange(1,10).reshape(3,3)\n",
        "\n",
        "print(matriz_1)\n",
        "print('\\n')\n",
        "\n",
        "matriz_2 = np.arange(10,19).reshape(3,3)\n",
        "\n",
        "print(matriz_2)\n",
        "print('\\n')\n",
        "\n",
        "matriz = np.vstack((matriz_1,matriz_2))\n",
        "\n",
        "print(matriz)"
      ],
      "metadata": {
        "id": "cCbRSxocIETi",
        "colab": {
          "base_uri": "https://localhost:8080/"
        },
        "outputId": "0cfe97d4-2fcb-4cb3-d600-116edfcc4877"
      },
      "execution_count": 28,
      "outputs": [
        {
          "output_type": "stream",
          "name": "stdout",
          "text": [
            "[[1 2 3]\n",
            " [4 5 6]\n",
            " [7 8 9]]\n",
            "\n",
            "\n",
            "[[10 11 12]\n",
            " [13 14 15]\n",
            " [16 17 18]]\n",
            "\n",
            "\n",
            "[[ 1  2  3]\n",
            " [ 4  5  6]\n",
            " [ 7  8  9]\n",
            " [10 11 12]\n",
            " [13 14 15]\n",
            " [16 17 18]]\n"
          ]
        }
      ]
    },
    {
      "cell_type": "code",
      "source": [
        "#juntar matrizes por colunas (empilhamento horizontal)\n",
        "\n",
        "matriz_1 = np.arange(1,10).reshape(3,3)\n",
        "\n",
        "print(matriz_1)\n",
        "print('\\n')\n",
        "\n",
        "matriz_2 = np.arange(10,19).reshape(3,3)\n",
        "\n",
        "print(matriz_2)\n",
        "print('\\n')\n",
        "\n",
        "matriz = np.hstack((matriz_1,matriz_2))\n",
        "\n",
        "print(matriz)"
      ],
      "metadata": {
        "id": "qdtS0LMFOmqO",
        "colab": {
          "base_uri": "https://localhost:8080/"
        },
        "outputId": "8de45c6a-8a77-4f7b-8267-015813105bf4"
      },
      "execution_count": 29,
      "outputs": [
        {
          "output_type": "stream",
          "name": "stdout",
          "text": [
            "[[1 2 3]\n",
            " [4 5 6]\n",
            " [7 8 9]]\n",
            "\n",
            "\n",
            "[[10 11 12]\n",
            " [13 14 15]\n",
            " [16 17 18]]\n",
            "\n",
            "\n",
            "[[ 1  2  3 10 11 12]\n",
            " [ 4  5  6 13 14 15]\n",
            " [ 7  8  9 16 17 18]]\n"
          ]
        }
      ]
    }
  ]
}