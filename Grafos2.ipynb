{
  "nbformat": 4,
  "nbformat_minor": 0,
  "metadata": {
    "colab": {
      "provenance": []
    },
    "kernelspec": {
      "name": "python3",
      "display_name": "Python 3"
    },
    "language_info": {
      "name": "python"
    }
  },
  "cells": [
    {
      "cell_type": "markdown",
      "source": [
        "# ***MTZ INC***"
      ],
      "metadata": {
        "id": "C40VClR6Jcw9"
      }
    },
    {
      "cell_type": "code",
      "source": [
        "# IMPORTANDO AS BIBLIOTECAS\n",
        "\n",
        "import numpy as np\n",
        "import pandas as pd"
      ],
      "metadata": {
        "id": "snR_EeSQjq1O"
      },
      "execution_count": 4,
      "outputs": []
    },
    {
      "cell_type": "code",
      "source": [
        "# LENDO O ARQUIVO \"mtz_exemplo.txt\"\n",
        "\n",
        "matriz = pd.read_fwf('mtz_exemplo.txt')\n",
        "print(\"Matriz do arquivo:\\n\",matriz)"
      ],
      "metadata": {
        "colab": {
          "base_uri": "https://localhost:8080/"
        },
        "id": "nBIg-q7CjyIW",
        "outputId": "e8c611b1-903a-49f9-d7e9-52a6ab1a4410"
      },
      "execution_count": 5,
      "outputs": [
        {
          "output_type": "stream",
          "name": "stdout",
          "text": [
            "Matriz do arquivo:\n",
            "    0  1  1.1  1.2  1.3\n",
            "0  0  0    1    1    1\n",
            "1  1  1    0    0    0\n",
            "2  1  1    0    1    1\n"
          ]
        }
      ]
    },
    {
      "cell_type": "code",
      "source": [
        "# RETIRANDO O HEADER E O INDEX DA MATRIZ\n",
        "\n",
        "mtz_sem_header = pd.DataFrame(np.array(matriz))\n",
        "print(\"Matriz sem o header:\\n\",mtz_sem_header)\n",
        "\n",
        "mtz_sem_index = mtz_sem_header.drop(columns=[0])\n",
        "print(\"\\n\\nMatriz sem o index:\\n\",mtz_sem_index)"
      ],
      "metadata": {
        "colab": {
          "base_uri": "https://localhost:8080/"
        },
        "id": "Rsw2XOT7j_v0",
        "outputId": "78fe9804-33e8-4d91-f581-92cc54d6e999"
      },
      "execution_count": 7,
      "outputs": [
        {
          "output_type": "stream",
          "name": "stdout",
          "text": [
            "Matriz sem o header:\n",
            "    0  1  2  3  4\n",
            "0  0  0  1  1  1\n",
            "1  1  1  0  0  0\n",
            "2  1  1  0  1  1\n",
            "\n",
            "\n",
            "Matriz sem o index:\n",
            "    1  2  3  4\n",
            "0  0  1  1  1\n",
            "1  1  0  0  0\n",
            "2  1  0  1  1\n"
          ]
        }
      ]
    },
    {
      "cell_type": "code",
      "source": [
        "# TRANSFORMANDO EM ARRAY PARA UTILIZAR DEPOIS\n",
        "\n",
        "array_da_mtz = np.array(mtz_sem_index)\n",
        "print(\"Array da matriz:\\n\",array_da_mtz)"
      ],
      "metadata": {
        "colab": {
          "base_uri": "https://localhost:8080/"
        },
        "id": "UxpfHPtQjGXG",
        "outputId": "c338ed18-876b-4fdc-87a7-011a78e282af"
      },
      "execution_count": 8,
      "outputs": [
        {
          "output_type": "stream",
          "name": "stdout",
          "text": [
            "Array da matriz:\n",
            " [[0 1 1 1]\n",
            " [1 0 0 0]\n",
            " [1 0 1 1]]\n"
          ]
        }
      ]
    },
    {
      "cell_type": "code",
      "source": [
        "# MATRIZ INCIDENCIA\n",
        "\n",
        "mtz_incidencia = pd.DataFrame(array_da_mtz, index=['v1','v2','v3','v4'],  columns=['x','y','z','w','k'])\n",
        "print(\"Matriz Incidencia:\\n\",mtz_incidencia)"
      ],
      "metadata": {
        "colab": {
          "base_uri": "https://localhost:8080/"
        },
        "id": "SSvCX0arQQJz",
        "outputId": "284a22fd-96a5-48e9-d6d6-db2cdfd357b0"
      },
      "execution_count": null,
      "outputs": [
        {
          "output_type": "stream",
          "name": "stdout",
          "text": [
            "Matriz Incidencia:\n",
            "     x  y  z  w  k\n",
            "v1  0  1  1  1  1\n",
            "v2  0  0  1  1  1\n",
            "v3  1  1  0  0  0\n",
            "v4  1  1  0  1  1\n"
          ]
        }
      ]
    },
    {
      "cell_type": "markdown",
      "source": [
        "# ***MTZ SM***"
      ],
      "metadata": {
        "id": "JXbyJC5DE-aC"
      }
    },
    {
      "cell_type": "code",
      "source": [
        "# MATRIZ SIMILARIDADE\n",
        "\n",
        "matriz_similaridade = np.dot(array_da_mtz, array_da_mtz.T)\n",
        "#                                                       |> MATRIZ TRANSPOSTA\n",
        "\n",
        "df_similaridade = pd.DataFrame(matriz_similaridade, index=['V1', 'V2', 'V3', 'V4'],  columns=['V1', 'V2', 'V3', 'V4'])\n",
        "\n",
        "print(\"Matriz de Similaridade:\")\n",
        "print(df_similaridade)"
      ],
      "metadata": {
        "colab": {
          "base_uri": "https://localhost:8080/"
        },
        "id": "aTuK777H5Jgh",
        "outputId": "12d8e180-8200-419b-da46-4f74b1f4c9e4"
      },
      "execution_count": null,
      "outputs": [
        {
          "output_type": "stream",
          "name": "stdout",
          "text": [
            "Matriz de Similaridade:\n",
            "   V1 V2 V3 V4\n",
            "V1  4  3  1  3\n",
            "V2  3  3  0  2\n",
            "V3  1  0  2  2\n",
            "V4  3  2  2  4\n"
          ]
        }
      ]
    },
    {
      "cell_type": "markdown",
      "source": [
        "# **MTZ COO**"
      ],
      "metadata": {
        "id": "5e3oIxaaFDCx"
      }
    },
    {
      "cell_type": "code",
      "source": [
        "# MATRIZ DE COOCORRENCIA\n",
        "\n",
        "matriz_coocorrencia = np.dot(array_da_mtz.T, array_da_mtz)\n",
        "\n",
        "df_coocorrencia = pd.DataFrame(matriz_coocorrencia, index=['x','y','z','w','k'],  columns=['x','y','z','w','k'])\n",
        "\n",
        "print(\"Matriz de Coocorrencia:\")\n",
        "print(df_coocorrencia)"
      ],
      "metadata": {
        "colab": {
          "base_uri": "https://localhost:8080/"
        },
        "id": "MB6UhCqWB4Hk",
        "outputId": "7728d397-eb83-4fbe-fe9d-936c52efd034"
      },
      "execution_count": null,
      "outputs": [
        {
          "output_type": "stream",
          "name": "stdout",
          "text": [
            "Matriz de Coocorrencia:\n",
            "   x  y  z  w  k\n",
            "x  2  2  0  1  1\n",
            "y  2  3  1  2  2\n",
            "z  0  1  2  2  2\n",
            "w  1  2  2  3  3\n",
            "k  1  2  2  3  3\n"
          ]
        }
      ]
    }
  ]
}